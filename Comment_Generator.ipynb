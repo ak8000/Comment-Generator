{
  "cells": [
    {
      "cell_type": "markdown",
      "metadata": {
        "id": "kjZCLDG8i243"
      },
      "source": [
        "No quotation marks in the prompt. Enter your prompt and the play button for that cell. Press play on the pip install cell before doing prompts."
      ]
    },
    {
      "cell_type": "code",
      "execution_count": null,
      "metadata": {
        "colab": {
          "base_uri": "https://localhost:8080/"
        },
        "id": "26M1mo3VBKI9",
        "outputId": "f651efd2-04bd-4b4b-feed-d84760232fc8"
      },
      "outputs": [],
      "source": [
        "!pip install openai"
      ]
    },
    {
      "cell_type": "code",
      "execution_count": null,
      "metadata": {
        "colab": {
          "base_uri": "https://localhost:8080/"
        },
        "id": "W6MFSMBvCZ-q",
        "outputId": "385d3d08-10d4-4192-9796-b6d7ef98fdd1"
      },
      "outputs": [],
      "source": [
        "from google.colab import drive\n",
        "drive.mount('/content/drive')\n"
      ]
    },
    {
      "cell_type": "code",
      "execution_count": null,
      "metadata": {
        "cellView": "form",
        "colab": {
          "base_uri": "https://localhost:8080/",
          "height": 424
        },
        "id": "fkA6jkXSEBVq",
        "outputId": "ff4c4406-69e0-4088-c009-14fa667ce195"
      },
      "outputs": [],
      "source": [
        "import openai\n",
        "import pandas as pd\n",
        "import difflib\n",
        "from datetime import datetime\n",
        "import time\n",
        "\n",
        "\n",
        "#@title Tweet Generator\n",
        "# Set your OpenAI API key\n",
        "openai.api_key = ''\n",
        "\n",
        "\n",
        "\n",
        "# List to hold the unique sentences\n",
        "unique_sentences = []\n",
        "\n",
        "def sentence_difference(original, new):\n",
        "    # Compute difference ratio between two sentences\n",
        "    return difflib.SequenceMatcher(None, original, new).ratio()\n",
        "\n",
        "# Define the maximum number of retries and initial wait time\n",
        "max_retries = 5\n",
        "wait_time = 1  # in seconds\n",
        "\n",
        "\n",
        "\n",
        "insert_prompt = 'YOUR_INPUT_PHRASE'  #@param {type: \"string\"}\n",
        "\n",
        "number_of_results = 80  #@param {type: \"number\"}\n",
        "pick_model = \"gpt-3.5-turbo-16k\"  #@param ['gpt-3.5-turbo-16k', 'gpt-3.5-turbo', 'gpt-4']\n",
        "\n",
        "\n",
        "\n",
        "# Generate 80 unique sentences - tweets\n",
        "while len(unique_sentences) < number_of_results:\n",
        "    for i in range(max_retries):\n",
        "        try:\n",
        "            # Generate text\n",
        "            response = openai.ChatCompletion.create(\n",
        "                model=pick_model,\n",
        "                messages=[\n",
        "                    {\"role\": \"system\", \"content\": \"You rephrase phrases into 275 character tweets.\"},\n",
        "                    {\"role\": \"user\", \"content\": insert_prompt}\n",
        "                ],\n",
        "                max_tokens=60\n",
        "            )\n",
        "            break  # if the request was successful, break the retry loop\n",
        "        except openai.error.ServiceUnavailableError:\n",
        "            if i < max_retries - 1:  # no need to wait on the last attempt\n",
        "                time.sleep(wait_time)\n",
        "                wait_time *= 2  # double the wait time for the next attempt\n",
        "            else:\n",
        "                raise  # re-raise the last exception if all retries failed\n",
        "\n",
        "    # Get the generated text\n",
        "    text = response['choices'][0]['message']['content'].strip()\n",
        "\n",
        "    # Check if the sentence is unique, meets the difference threshold, and is within character limit\n",
        "    if (text not in unique_sentences) and (sentence_difference(insert_prompt, text) <= 0.6) and (len(text) <= 280):\n",
        "        unique_sentences.append(text)\n",
        "\n",
        "# Save to a CSV file\n",
        "date_string = datetime.now().strftime(\"%m-%d-%s\")\n",
        "\n",
        "df = pd.DataFrame(unique_sentences, columns=['Sentences'])\n",
        "df.to_csv(f'/content/drive/YOUR_PATH-{date_string}.csv', index=False)\n",
        "#df.to_csv(f'/content/unique_sentences-{date_string}.csv', index=False)\n",
        "\n",
        "df\n"
      ]
    },
    {
      "cell_type": "code",
      "execution_count": null,
      "metadata": {
        "cellView": "form",
        "colab": {
          "base_uri": "https://localhost:8080/",
          "height": 424
        },
        "id": "cW774aiJl8wJ",
        "outputId": "2ad55fa5-9e06-47c6-d5e5-c9589ff9ea27"
      },
      "outputs": [],
      "source": [
        "import openai\n",
        "import pandas as pd\n",
        "import difflib\n",
        "from datetime import datetime\n",
        "import time\n",
        "\n",
        "\n",
        "#@title Comment Generator\n",
        "# Set your OpenAI API key\n",
        "openai.api_key = ''\n",
        "\n",
        "\n",
        "\n",
        "# List to hold the unique sentences\n",
        "unique_sentences = []\n",
        "\n",
        "def sentence_difference(original, new):\n",
        "    # Compute difference ratio between two sentences\n",
        "    return difflib.SequenceMatcher(None, original, new).ratio()\n",
        "\n",
        "# Define the maximum number of retries and initial wait time\n",
        "max_retries = 5\n",
        "wait_time = 1  # in seconds\n",
        "\n",
        "\n",
        "\n",
        "insert_prompt = \"Your_INPUT_PHRASE \"  #@param {type: \"string\"}\n",
        "\n",
        "number_of_results = 130  #@param {type: \"number\"}\n",
        "pick_model = \"gpt-3.5-turbo-16k\"  #@param ['gpt-3.5-turbo-16k', 'gpt-3.5-turbo', 'gpt-4']\n",
        "\n",
        "\n",
        "\n",
        "# Generate 130 unique sentences - comments\n",
        "while len(unique_sentences) < number_of_results:\n",
        "    for i in range(max_retries):\n",
        "        try:\n",
        "            # Generate text\n",
        "            response = openai.ChatCompletion.create(\n",
        "                model=pick_model,\n",
        "                messages=[\n",
        "                    {\"role\": \"system\", \"content\": \"You rephrase phrases into 275 character Twitter comments.\"},\n",
        "                    {\"role\": \"user\", \"content\": insert_prompt}\n",
        "                ],\n",
        "                max_tokens=60\n",
        "            )\n",
        "            break  # if the request was successful, break the retry loop\n",
        "        except openai.error.ServiceUnavailableError:\n",
        "            if i < max_retries - 1:  # no need to wait on the last attempt\n",
        "                time.sleep(wait_time)\n",
        "                wait_time *= 2  # double the wait time for the next attempt\n",
        "            else:\n",
        "                raise  # re-raise the last exception if all retries failed\n",
        "\n",
        "    # Get the generated text\n",
        "    text = response['choices'][0]['message']['content'].strip()\n",
        "\n",
        "    # Check if the sentence is unique, meets the difference threshold, and is within character limit\n",
        "    if (text not in unique_sentences) and (sentence_difference(insert_prompt, text) <= 0.6) and (len(text) <= 280):\n",
        "        unique_sentences.append(text)\n",
        "\n",
        "# Save to a CSV file\n",
        "date_string = datetime.now().strftime(\"%m-%d-%s\")\n",
        "\n",
        "df = pd.DataFrame(unique_sentences, columns=['Sentences'])\n",
        "df.to_csv(f'/content/drive/YOUR_PATH-{date_string}.csv', index=False)\n",
        "#df.to_csv(f'/content/unique_sentences-{date_string}.csv', index=False)\n",
        "\n",
        "df\n"
      ]
    }
  ],
  "metadata": {
    "colab": {
      "machine_shape": "hm",
      "provenance": []
    },
    "kernelspec": {
      "display_name": "Python 3",
      "name": "python3"
    },
    "language_info": {
      "name": "python"
    }
  },
  "nbformat": 4,
  "nbformat_minor": 0
}
